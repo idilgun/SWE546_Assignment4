{
 "cells": [
  {
   "cell_type": "code",
   "execution_count": 1,
   "metadata": {
    "collapsed": true
   },
   "outputs": [],
   "source": [
    "%matplotlib inline\n",
    "import numpy as np\n",
    "import pandas as pd\n",
    "from IPython import display\n",
    "import matplotlib.pylab as plt\n",
    "\n",
    "rnames = ['user_id', 'movie_id', 'rating', 'timestamp']\n",
    "ratings = pd.read_table('data/ml-1m/ratings.dat', sep='::', header=None, names=rnames, engine='python')\n",
    "\n",
    "user = np.matrix(ratings.user_id).T\n",
    "movie = np.matrix(ratings.movie_id).T\n",
    "rating = np.matrix(ratings.rating).T\n",
    "\n"
   ]
  },
  {
   "cell_type": "code",
   "execution_count": 2,
   "metadata": {
    "collapsed": false
   },
   "outputs": [
    {
     "name": "stdout",
     "output_type": "stream",
     "text": [
      "[[5]\n",
      " [3]\n",
      " [3]\n",
      " ..., \n",
      " [5]\n",
      " [4]\n",
      " [4]]\n"
     ]
    }
   ],
   "source": [
    "print(rating)"
   ]
  },
  {
   "cell_type": "code",
   "execution_count": 3,
   "metadata": {
    "collapsed": true
   },
   "outputs": [],
   "source": [
    "Ys = np.hstack([rating,user,movie])\n",
    "movieMax = 0\n",
    "userMax = 0\n",
    "for i in range (Ys.shape[0]):\n",
    "    if(Ys[i,2]>movieMax):\n",
    "        movieMax = Ys[i,2]\n",
    "    if(Ys[i,1]>userMax):\n",
    "        userMax = Ys[i,1]"
   ]
  },
  {
   "cell_type": "code",
   "execution_count": 4,
   "metadata": {
    "collapsed": false
   },
   "outputs": [
    {
     "name": "stdout",
     "output_type": "stream",
     "text": [
      "3952\n",
      "6040\n",
      "[[   5  549  198]\n",
      " [   4 3847 1297]\n",
      " [   4 2974 2672]\n",
      " ..., \n",
      " [   5 3501 1183]\n",
      " [   4 5424  708]\n",
      " [   4 5788 3536]]\n"
     ]
    }
   ],
   "source": [
    "        \n",
    "print(movieMax)\n",
    "print(userMax)\n",
    "np.random.shuffle(Ys)\n",
    "print(Ys)"
   ]
  },
  {
   "cell_type": "code",
   "execution_count": 5,
   "metadata": {
    "collapsed": false
   },
   "outputs": [
    {
     "name": "stdout",
     "output_type": "stream",
     "text": [
      "(6041, 3953)\n"
     ]
    }
   ],
   "source": [
    "Nr = 6041 ## there are 6040 users \n",
    "Nc = 3953 ## there are 3952 movies\n",
    "user_zeros = np.matrix([0]*Nr).T \n",
    "movie_zeros = np.matrix([0]*Nc) \n",
    "Y = user_zeros*movie_zeros\n",
    "M = user_zeros*movie_zeros\n",
    "print(Y.shape)"
   ]
  },
  {
   "cell_type": "code",
   "execution_count": 6,
   "metadata": {
    "collapsed": false
   },
   "outputs": [
    {
     "name": "stdout",
     "output_type": "stream",
     "text": [
      "[[ 0.32721423]\n",
      " [ 0.42246975]\n",
      " [ 0.39173019]\n",
      " ..., \n",
      " [ 0.42695515]\n",
      " [ 0.08137273]\n",
      " [ 0.56297189]]\n",
      "[[ 0.0439165   0.49773487  0.92189088 ...,  0.30063229  0.87445265\n",
      "   0.17578487]]\n"
     ]
    }
   ],
   "source": [
    "A = np.mat(np.random.rand(Nr, 1))\n",
    "B = np.mat(np.random.rand(1, Nc))\n",
    "\n",
    "print(A)\n",
    "print(B)"
   ]
  },
  {
   "cell_type": "code",
   "execution_count": 7,
   "metadata": {
    "collapsed": false
   },
   "outputs": [
    {
     "name": "stdout",
     "output_type": "stream",
     "text": [
      "5\n",
      "[[0 0 0 ..., 0 0 0]\n",
      " [0 1 0 ..., 0 0 0]\n",
      " [0 0 0 ..., 0 0 0]\n",
      " ..., \n",
      " [0 0 0 ..., 0 0 0]\n",
      " [0 0 0 ..., 0 0 0]\n",
      " [0 1 0 ..., 0 0 0]]\n"
     ]
    }
   ],
   "source": [
    "for j in range (len(Ys)):\n",
    "    u = user[j]\n",
    "    m = movie[j]\n",
    "    r = rating[j]\n",
    "    Y[u,m] = r\n",
    "    M[u,m] = 1\n",
    "print (Y[1,1193])\n",
    "print(M)"
   ]
  },
  {
   "cell_type": "code",
   "execution_count": 8,
   "metadata": {
    "collapsed": false
   },
   "outputs": [
    {
     "name": "stdout",
     "output_type": "stream",
     "text": [
      "12.4413573019\n"
     ]
    }
   ],
   "source": [
    "import timeit\n",
    "EPOCH = 5\n",
    "Eta = 0.1\n",
    "eta = Eta\n",
    "\n",
    "E = np.array(M)*np.array(Y - A*B)\n",
    "Err = np.sum(E*E)/np.sum(np.array(M))\n",
    "print(Err)"
   ]
  },
  {
   "cell_type": "code",
   "execution_count": 9,
   "metadata": {
    "collapsed": false
   },
   "outputs": [
    {
     "name": "stdout",
     "output_type": "stream",
     "text": [
      "[[ 0.0143701   0.66928158  0.57041146 ...,  0.62799204  0.65480159\n",
      "   0.63720634]\n",
      " [ 0.08711753  4.05746231  3.45807066 ...,  3.80714802  3.9696786\n",
      "   3.86300894]\n",
      " [ 0.0769789   3.58525979  3.05562461 ...,  3.36407677  3.50769224\n",
      "   3.41343667]\n",
      " ..., \n",
      " [ 0.07999676  3.72581514  3.17541631 ...,  3.49596093  3.64520665\n",
      "   3.54725591]\n",
      " [ 0.08419704  3.92144149  3.34214362 ...,  3.67951864  3.83660061\n",
      "   3.7335069 ]\n",
      " [ 0.07852375  3.6572104   3.11694626 ...,  3.43158858  3.57808619\n",
      "   3.48193905]]\n"
     ]
    }
   ],
   "source": [
    "SGD_Error = []\n",
    "SGD_Time = []\n",
    "start = timeit.default_timer()\n",
    "Ysize = Ys.shape[0]\n",
    "for l in range(EPOCH):\n",
    "    E = np.array(M)*np.array(Y - A*B)\n",
    "    Err = np.sum(E*E)/np.sum(np.array(M))\n",
    "    stop = timeit.default_timer()\n",
    "    SGD_Error.append(Err)\n",
    "    SGD_Time.append(stop-start)\n",
    "    for k in range(Ysize):\n",
    "        u = Ys[k,1]\n",
    "        m = Ys[k,2]\n",
    "        \n",
    "        err = Ys[k,0] - A[u,:]*B[:,m]\n",
    "        \n",
    "        temp_A = A[u,:] + eta*err[0,0]*B[:,m].T\n",
    "        B[:,m]   = B[:,m] + eta*err[0,0]*A[u,:].T\n",
    "        A[u,:]   = temp_A\n",
    "    \n",
    "    eta = Eta*1./(l+1)\n",
    "    \n",
    "E = np.array(M)*np.array(Y - A*B)\n",
    "Err = np.sum(E*E)/np.sum(np.array(M))\n",
    "stop = timeit.default_timer()\n",
    "SGD_Error.append(Err)\n",
    "SGD_Time.append(stop-start)\n",
    "print(A*B)"
   ]
  },
  {
   "cell_type": "code",
   "execution_count": 10,
   "metadata": {
    "collapsed": false
   },
   "outputs": [
    {
     "data": {
      "image/png": "[encoded data removed]",
      "text/plain": [
       "<matplotlib.figure.Figure at 0x114859940>"
      ]
     },
     "metadata": {},
     "output_type": "display_data"
    },
    {
     "name": "stdout",
     "output_type": "stream",
     "text": [
      "[12.441357301864214, 1.274034059692122, 1.2739305136695864, 0.98673799083729552, 0.91781049962002392, 0.88717117111695276]\n",
      "[0.7363335150002968, 130.01257881300035, 255.5159319710001, 383.0525020460004, 510.30948255400017, 643.0083541990002]\n"
     ]
    }
   ],
   "source": [
    "import matplotlib.pyplot as plt\n",
    "plt.plot(SGD_Time, SGD_Error,'ro')\n",
    "plt.axis([-10, 700, 0, 13])\n",
    "plt.show()\n",
    "print(SGD_Error)\n",
    "print(SGD_Time)"
   ]
  },
  {
   "cell_type": "code",
   "execution_count": 11,
   "metadata": {
    "collapsed": false
   },
   "outputs": [],
   "source": [
    "Y_star = (A*B)\n",
    "for q in range (Nr):\n",
    "    u = user[q]\n",
    "    m = movie[q]\n",
    "    r = rating[q]\n",
    "    Y_star[u,m] = 0 ## movies that have already been watched"
   ]
  },
  {
   "cell_type": "markdown",
   "metadata": {},
   "source": [
    "## 10 movies to be recommended to the first 10 users:"
   ]
  },
  {
   "cell_type": "code",
   "execution_count": 12,
   "metadata": {
    "collapsed": false
   },
   "outputs": [
    {
     "name": "stdout",
     "output_type": "stream",
     "text": [
      "Movies for user  1  : \n",
      "(0.87574150902994286, 3245)\n",
      "(0.86427307200354508, 557)\n",
      "(0.83061602205365104, 2503)\n",
      "(0.81954802146157713, 2905)\n",
      "(0.81517990259577755, 318)\n",
      "(0.81197527620540333, 3307)\n",
      "(0.80709023599730301, 53)\n",
      "(0.80603092661937903, 2360)\n",
      "(0.80380283873267566, 1252)\n",
      "(0.79871894308188962, 1204)\n",
      "Movies for user  2  : \n",
      "(5.3091079681908244, 3245)\n",
      "(5.2395815499821135, 557)\n",
      "(5.0355385644295474, 2503)\n",
      "(4.9684397578417334, 2905)\n",
      "(4.9419584109633501, 318)\n",
      "(4.9225306376663447, 3307)\n",
      "(4.8929154993791508, 53)\n",
      "(4.8864935269122469, 2360)\n",
      "(4.872985934739039, 1252)\n",
      "(4.8421652523450565, 1204)\n",
      "Movies for user  3  : \n",
      "(4.6912404563875834, 3245)\n",
      "(4.6298054379546141, 557)\n",
      "(4.4495087262656838, 2503)\n",
      "(4.3902187969732225, 2905)\n",
      "(4.3496525242256494, 3307)\n",
      "(4.3234839596218029, 53)\n",
      "(4.3178093684801171, 2360)\n",
      "(4.3058737734138655, 1252)\n",
      "(4.2786399644564268, 1204)\n",
      "(4.2771077015840921, 1237)\n",
      "Movies for user  4  : \n",
      "(5.2427662804090867, 3245)\n",
      "(5.1741086522037101, 557)\n",
      "(4.9726153522334844, 2503)\n",
      "(4.9063550006373271, 2905)\n",
      "(4.8802045600537811, 318)\n",
      "(4.8610195528255931, 3307)\n",
      "(4.8317744801444551, 53)\n",
      "(4.8254327555261334, 2360)\n",
      "(4.8120939518703203, 1252)\n",
      "(4.7816583993514223, 1204)\n",
      "Movies for user  5  : \n",
      "(5.2709317810204528, 3245)\n",
      "(5.2019053062242175, 557)\n",
      "(4.9993295319722941, 2503)\n",
      "(4.9327132125771591, 2905)\n",
      "(4.9064222850424786, 318)\n",
      "(4.8871342109782141, 3307)\n",
      "(4.8577320261794599, 53)\n",
      "(4.851356232171228, 2360)\n",
      "(4.8379457690016334, 1252)\n",
      "(4.8073467087985806, 1204)\n",
      "Movies for user  6  : \n",
      "(4.1336142162716882, 3245)\n",
      "(4.0794816967531764, 557)\n",
      "(3.9206160283840283, 2503)\n",
      "(3.8683736210967701, 2905)\n",
      "(3.8326292751632329, 3307)\n",
      "(3.8095712478309101, 53)\n",
      "(3.8045711693158846, 2360)\n",
      "(3.7940543037013024, 1252)\n",
      "(3.7700576527267367, 1204)\n",
      "(3.7687075229154363, 1237)\n",
      "Movies for user  7  : \n",
      "(5.3968487087295332, 3245)\n",
      "(5.3261732652123932, 557)\n",
      "(5.1187581721869009, 2503)\n",
      "(5.0505504601078908, 2905)\n",
      "(5.0236314704090006, 318)\n",
      "(5.0038826248666561, 3307)\n",
      "(4.9737780532923557, 53)\n",
      "(4.9672499483784671, 2360)\n",
      "(4.9535191235742282, 1252)\n",
      "(4.9221890845212055, 1204)\n",
      "Movies for user  8  : \n",
      "(5.6905855878904976, 3245)\n",
      "(5.6160634580324071, 557)\n",
      "(5.3973592840257041, 2503)\n",
      "(5.32543919801107, 2905)\n",
      "(5.2970550755187533, 318)\n",
      "(5.2762313500659799, 3307)\n",
      "(5.2444882625020783, 53)\n",
      "(5.2376048492837084, 2360)\n",
      "(5.2231266902768665, 1252)\n",
      "(5.1900914361266457, 1204)\n",
      "Movies for user  9  : \n",
      "(5.6383028339518777, 3245)\n",
      "(5.5644653826946406, 557)\n",
      "(5.347770572458737, 2503)\n",
      "(5.2765112585390428, 2905)\n",
      "(5.2483879176603425, 318)\n",
      "(5.2277555120106225, 3307)\n",
      "(5.1963040668463858, 53)\n",
      "(5.1894838955903762, 2360)\n",
      "(5.1751387559385984, 1252)\n",
      "(5.1424070160818296, 1204)\n",
      "Movies for user  10  : \n",
      "(4.6238037742300655, 3245)\n",
      "(4.5632518855044566, 557)\n",
      "(4.38554694291226, 2503)\n",
      "(4.3271093076247649, 2905)\n",
      "(4.2871261759178241, 3307)\n",
      "(4.2613337849913053, 53)\n",
      "(4.255740766218965, 2360)\n",
      "(4.2439767455877329, 1252)\n",
      "(4.217134423218047, 1204)\n",
      "(4.2156241866573598, 1237)\n",
      "Movies for user  11  : \n",
      "(6.2655822778098589, 3245)\n",
      "(6.1835301710570665, 557)\n",
      "(5.9427273616492888, 2503)\n",
      "(5.8635402183593657, 2905)\n",
      "(5.8093602371866, 3307)\n",
      "(5.7744097169261579, 53)\n",
      "(5.7668307795381253, 2360)\n",
      "(5.7124699670511383, 1237)\n",
      "(5.702930695326903, 3233)\n",
      "(5.6796273959475538, 2999)\n",
      "Movies for user  12  : \n",
      "(4.4589478405468759, 3245)\n",
      "(4.4005548535912284, 557)\n",
      "(4.2291857582065688, 2503)\n",
      "(4.1728316436301496, 2905)\n",
      "(4.1342740604176891, 3307)\n",
      "(4.1094012648926475, 53)\n",
      "(4.1040076582011045, 2360)\n",
      "(4.0926630689946739, 1252)\n",
      "(4.0667777760173571, 1204)\n",
      "(4.0653213850501357, 1237)\n",
      "Movies for user  13  : \n",
      "(5.0491295274564498, 3245)\n",
      "(4.9830077056326765, 557)\n",
      "(4.7889563754663955, 2503)\n",
      "(4.7251432890440697, 2905)\n",
      "(4.6999586909436797, 318)\n",
      "(4.68148226432091, 3307)\n",
      "(4.653317331514593, 53)\n",
      "(4.6472098326651761, 2360)\n",
      "(4.6050522420945192, 1204)\n",
      "(4.6034030847374297, 1237)\n",
      "Movies for user  14  : \n",
      "(4.9449031361209776, 3245)\n",
      "(4.8801462305346961, 557)\n",
      "(4.6901005947692216, 2503)\n",
      "(4.6276047666350042, 2905)\n",
      "(4.5848450123237363, 3307)\n",
      "(4.5572614726650196, 53)\n",
      "(4.551280047540132, 2360)\n",
      "(4.5386990762547619, 1252)\n",
      "(4.5083775781078819, 1237)\n",
      "(4.5008490240846513, 3233)\n",
      "Movies for user  15  : \n",
      "(4.5418166334566514, 3245)\n",
      "(4.4823384226956469, 557)\n",
      "(4.3077844616017646, 2503)\n",
      "(4.2503830153189774, 2905)\n",
      "(4.2277288477169641, 318)\n",
      "(4.2111088459313475, 3307)\n",
      "(4.1857737937002035, 53)\n",
      "(4.180279947738784, 2360)\n",
      "(4.168724521257011, 1252)\n",
      "(4.1423581544793588, 1204)\n",
      "Movies for user  16  : \n",
      "(4.9083294130599802, 3245)\n",
      "(4.8440514655171629, 557)\n",
      "(4.655411454141106, 2503)\n",
      "(4.593377860563912, 2905)\n",
      "(4.5509343679405454, 3307)\n",
      "(4.5235548429435415, 53)\n",
      "(4.5176176579139611, 2360)\n",
      "(4.5051297385948201, 1252)\n",
      "(4.4766356746520009, 1204)\n",
      "(4.4750325057258413, 1237)\n",
      "Movies for user  17  : \n",
      "(5.2656257567058598, 3245)\n",
      "(5.1966687679452708, 557)\n",
      "(4.9942969181659791, 2503)\n",
      "(4.9277476586048827, 2905)\n",
      "(4.9014831970360975, 318)\n",
      "(4.8822145394610263, 3307)\n",
      "(4.8528419525993964, 53)\n",
      "(4.8464725768336008, 2360)\n",
      "(4.8330756134106556, 1252)\n",
      "(4.8025073559886255, 1204)\n",
      "Movies for user  18  : \n",
      "(5.7649671481200331, 3245)\n",
      "(5.6894709406024715, 557)\n",
      "(5.4679080875652755, 2503)\n",
      "(5.3950479351678426, 2905)\n",
      "(5.3451968921685422, 3307)\n",
      "(5.3130388911756024, 53)\n",
      "(5.3060655049646508, 2360)\n",
      "(5.29139810215512, 1252)\n",
      "(5.2579310446854821, 1204)\n",
      "(5.2560480789318795, 1237)\n",
      "Movies for user  19  : \n",
      "(5.2273508460980267, 3245)\n",
      "(5.1588950936011875, 557)\n",
      "(4.9579942493239448, 2503)\n",
      "(4.8919287246651004, 2905)\n",
      "(4.8658551748635315, 318)\n",
      "(4.8467265777827473, 3307)\n",
      "(4.8175674951062604, 53)\n",
      "(4.8112444172164111, 2360)\n",
      "(4.7979448339722177, 1252)\n",
      "(4.7675987718550434, 1204)\n",
      "Movies for user  20  : \n",
      "(4.9060776548391765, 3245)\n",
      "(4.8418291956180699, 557)\n",
      "(4.6532757252339962, 2503)\n",
      "(4.5912705903527353, 2905)\n",
      "(4.5488465692186253, 3307)\n",
      "(4.5214796049251333, 53)\n",
      "(4.5155451436543048, 2360)\n",
      "(4.5030629533261548, 1252)\n",
      "(4.4745819613956899, 1204)\n",
      "(4.4729795279435596, 1237)\n"
     ]
    }
   ],
   "source": [
    "\n",
    "\n",
    "for t in range (20):\n",
    "    \n",
    "    userData = [(0,0)]\n",
    "    for n in range (Nc):\n",
    "        thisMovie = (Y_star[t,n],n)\n",
    "        userData.append(thisMovie)\n",
    "        \n",
    "    userData = sorted(userData, key=lambda tup: tup[0], reverse=True)     \n",
    "    \n",
    "    print(\"Movies for user \" , t+1 , \" : \")\n",
    "    for h in range(10):\n",
    "        print (userData[h])\n",
    "    "
   ]
  },
  {
   "cell_type": "markdown",
   "metadata": {},
   "source": [
    "## Regular Gradient Descent Approach\n",
    "If we use regular GD instead of SGD, first we need to play with the dimension of the data we have, so we add extra movies, supposing none of the users have rated them yet. This will make the problem a bit bigger but it shouldn't affect the quality much as these dummy movies will never be added to the error calculation."
   ]
  },
  {
   "cell_type": "code",
   "execution_count": 38,
   "metadata": {
    "collapsed": false
   },
   "outputs": [
    {
     "name": "stdout",
     "output_type": "stream",
     "text": [
      "(6041, 6041)\n",
      "[[ 0.75894488]\n",
      " [ 0.79592154]\n",
      " [ 0.2214349 ]\n",
      " ..., \n",
      " [ 0.86891155]\n",
      " [ 0.78671911]\n",
      " [ 0.69907102]]\n",
      "[[ 0.79819506  0.93664464  0.86142927 ...,  0.68946     0.00744994\n",
      "   0.18294529]]\n",
      "5\n",
      "[[0 0 0 ..., 0 0 0]\n",
      " [0 1 0 ..., 0 0 0]\n",
      " [0 0 0 ..., 0 0 0]\n",
      " ..., \n",
      " [0 0 0 ..., 0 0 0]\n",
      " [0 0 0 ..., 0 0 0]\n",
      " [0 1 0 ..., 0 0 0]]\n",
      "12.3610024372\n"
     ]
    }
   ],
   "source": [
    "Nr = 6041 ## there are 6040 users \n",
    "Nc = 3953 ## there are 3952 movies but make extra dummy movies to use Gradient Descent\n",
    "user_zeros = np.matrix([0]*Nr).T \n",
    "movie_zeros = np.matrix([0]*Nr) \n",
    "Y = user_zeros*movie_zeros\n",
    "M = user_zeros*movie_zeros\n",
    "print(Y.shape)\n",
    "\n",
    "A = np.mat(np.random.rand(Nr, 1))\n",
    "B = np.mat(np.random.rand(1, Nr))\n",
    "\n",
    "print(A)\n",
    "print(B)\n",
    "\n",
    "for j in range (len(Ys)):\n",
    "    u = user[j]\n",
    "    m = movie[j]\n",
    "    r = rating[j]\n",
    "    Y[u,m] = r\n",
    "    M[u,m] = 1\n",
    "print (Y[1,1193])\n",
    "print(M)\n",
    "\n",
    "E = np.array(M)*np.array(Y - A*B)\n",
    "Err = np.sum(E*E)/np.sum(np.array(M))\n",
    "print(Err)"
   ]
  },
  {
   "cell_type": "code",
   "execution_count": 39,
   "metadata": {
    "collapsed": false
   },
   "outputs": [
    {
     "name": "stdout",
     "output_type": "stream",
     "text": [
      "[[ 6.44436092  7.20317913  4.68860848 ...,  6.37553088  3.01659597\n",
      "   3.46834823]\n",
      " [ 7.13744105  7.97786888  5.1928604  ...,  7.06120845  3.34102577\n",
      "   3.84136323]\n",
      " [ 4.27359316  4.77680525  3.10926179 ...,  4.22794836  2.00046274\n",
      "   2.30004332]\n",
      " ..., \n",
      " [ 6.52369082  7.29185006  4.74632511 ...,  6.45401348  3.05373018\n",
      "   3.5110435 ]\n",
      " [ 3.55799804  3.97694939  2.58862903 ...,  3.51999626  1.6654937\n",
      "   1.91491078]\n",
      " [ 3.83300844  4.28434203  2.78871343 ...,  3.79206937  1.79422567\n",
      "   2.06292109]]\n",
      "[12.361002437185904, 11.481077262901804, 10.314266894291448, 9.6244755730685316, 9.1409174115984637, 8.7720670438266772, 8.4760886221898417, 8.2303780400481816, 8.0213487510885155, 7.8402057881824758, 7.6809356387090917, 7.5392496278085046, 7.4119850116471309, 7.2967448523049212, 7.1916709156620593, 7.0952947264432096, 7.0064366137369909, 6.9241353389992613, 6.8475978417863681, 6.7761625878280611, 6.709272337609919, 6.6464535788656081, 6.5873007625354782, 6.5314640599334419, 6.4786397405745682, 6.4285625273716267, 6.3809994625520421, 6.3357449410073006, 6.2926166552782812, 6.2514522593153581, 6.2121066040168111, 6.1744494313767389, 6.1383634393001367, 6.103742648154082, 6.0704910145855724, 6.0385212492385731, 6.0077538035969997, 5.9781159978851299, 5.9495412672280032, 5.9219685074441548, 5.89534150516808, 5.8696084396621826, 5.8447214458271395, 5.8206362296611491, 5.7973117288379541, 5.7747098122373783, 5.7527950132188597, 5.7315342922205748, 5.7108968249241387, 5.6908538127729056, 5.671378313091413, 5.6524450864388678, 5.6340304591552481, 5.6161121993335028, 5.5986694046862509, 5.5816824009732677, 5.5651326498274107, 5.5490026649621358, 5.5332759358691765, 5.5179368582230746, 5.5029706703032319, 5.488363394823776, 5.4741017856335938, 5.4601732788089432, 5.4465659477142507, 5.433268461654893, 5.420270047784876, 5.4075604559695618, 5.3951299263347385, 5.3829691592614726, 5.3710692876104327, 5.3594218509816578, 5.3480187718347763, 5.3368523333121169, 5.3259151586221583, 5.3152001918545464, 5.3047006801102077, 5.2944101568405797, 5.2843224263001938, 5.2744315490250733, 5.2647318282576778, 5.2552177972458551, 5.2458842073498193, 5.2367260168967809, 5.2277383807279811, 5.2189166403878735, 5.21025631490848, 5.2017530921475146, 5.1934028206401512, 5.1852015019294759, 5.1771452833420213, 5.1692304511783727, 5.1614534242906149, 5.1538107480211002, 5.1462990884780799, 5.1389152271269269, 5.1316560556759985, 5.1245185712380987, 5.1174998717510629, 5.1105971516397073, 5.10380769770551, 5.0971288852291536, 5.0905581742733021, 5.0840931061733539, 5.0777313002051354, 5.0714704504188761, 5.0653083226296705, 5.059242751555499, 5.0532716380942952, 5.0473929467317209, 5.0416047030729993, 5.0359049914909857, 5.0302919528847942, 5.0247637825422178, 5.019318728100858, 5.0139550876021719, 5.0086712076335731, 5.0034654815540973, 4.9983363477989515, 4.9932822882589303, 4.9883018267307238, 4.9833935274347239, 4.9785559935965003, 4.9737878660890482, 4.9690878221324022, 4.9644545740482835, 4.9598868680664729, 4.9553834831805688, 4.9509432300511884, 4.9465649499533511, 4.9422475137670219, 4.9379898210076982, 4.9337907988960339, 4.9296494014642569, 4.9255646086974592, 4.9215354257086723, 4.9175608819457333, 4.9136400304286143, 4.9097719470161039, 4.9059557297000271, 4.902190497926167, 4.8984753919405568, 4.8948095721600575, 4.8911922185660881, 4.8876225301205958, 4.8840997242033417, 4.8806230360693847, 4.877191718326034, 4.8738050404287065, 4.8704622881942097, 4.867162763331617, 4.8639057829890602, 4.8606906793167939, 4.8575167990448396, 4.8543835030754012, 4.8512901660891492, 4.8482361761647432, 4.8452209344111354, 4.8422438546124154, 4.8393043628840244, 4.8364018973408829, 4.8335359077757163, 4.8307058553486657, 4.8279112122863195, 4.8251514615907309, 4.8224260967578418, 4.8197346215045842, 4.8170765495049679, 4.8144514041341724, 4.8118587182209227, 4.8092980338073215, 4.8067689019162545, 4.8042708823260778, 4.8018035433518236, 4.7993664616334542, 4.7969592219302255, 4.7945814169215133, 4.7922326470133543, 4.7899125201508985, 4.7876206516363053, 4.7853566639520659, 4.7831201865894961, 4.7809108558822278, 4.7787283148444244, 4.7765722130137824, 4.7744422062990353, 4.7723379568315902, 4.770259132821705, 4.7682054084184848, 4.7661764635737782, 4.7641719839100638, 4.7621916605919115, 4.7602351902009108, 4.7583022746141665, 4.7563926208860741, 4.7545059411332034, 4.7526419524225512, 4.7508003766624958, 4.7489809404969536, 4.7471833752021437, 4.7454074165862741, 4.7436528048916431, 4.7419192846996108, 4.7402066048378391, 4.7385145182899757, 4.7368427821077628, 4.7351911573253771, 4.7335594088758892, 4.731947305509955, 4.7303546197165289, 4.7287811276456608, 4.7272266090330763, 4.725690847126784, 4.724173628615489, 4.7226747435587626, 4.7211939853189326, 4.7197311504946082, 4.7182860388560535, 4.7168584532818194, 4.7154481996971045, 4.7140550870136186, 4.7126789270707832, 4.7113195345784149, 4.7099767270607975, 4.7086503248020684, 4.7073401507927972, 4.706046030677923, 4.7047677927059901, 4.7035052676793674, 4.702258288905707, 4.7010266921506725, 4.6998103155915318, 4.6986089997719631, 4.6974225875578099, 4.696250924093869, 4.6950938567617708, 4.6939512351386261, 4.6928229109566244, 4.6917087380637721, 4.6906085723851465, 4.6895222718853189, 4.6884496965314426, 4.687390708257178, 4.686345170927452, 4.6853129503039987, 4.6842939140114801, 4.6832879315046707, 4.6822948740359456, 4.6813146146238775, 4.6803470280221067, 4.6793919906892683, 4.6784493807592096, 4.6775190780120424, 4.6766009638458623, 4.6756949212487102, 4.6748008347716157, 4.6739185905018505, 4.6730480760367641, 4.6721891804583962, 4.6713417943083364, 4.6705058095631609, 4.6696811196106616, 4.6688676192260825, 4.6680652045491087, 4.6672737730614902, 4.6664932235647161, 4.6657234561583767, 4.664964372218968, 4.6642158743790709, 4.6634778665069287, 4.6627502536864203, 4.6620329421974978, 4.6613258394968886, 4.6606288541994223, 4.6599418960592969, 4.659264875952152, 4.6585977058572769, 4.6579402988400487, 4.6572925690350804, 4.6566544316292164, 4.6560258028452237, 4.6554065999256418, 4.6547967411169271, 4.6541961456539616, 4.6536047337447863, 4.6530224265556948, 4.6524491461965729, 4.6518848157064108, 4.651329359039245, 4.6507827010503515, 4.6502447674825484, 4.6497154849528233, 4.6491947809392897, 4.6486825837682932, 4.6481788226017082, 4.6476834274246599, 4.647196329033167, 4.6467174590222928, 4.6462467497744209, 4.6457841344475703, 4.6453295469641764, 4.6448829219999226, 4.6444441949728468, 4.6440133020324952, 4.643590180049463, 4.6431747666050152, 4.642766999980835, 4.6423668191490934, 4.6419741637625558, 4.6415889741449625, 4.6412111912815126, 4.6408407568094816, 4.6404776130091667, 4.6401217027946879, 4.6397729697054011, 4.6394313578968474, 4.6390968121324931, 4.6387692777750891, 4.6384487007785262, 4.6381350276796471, 4.6378282055902798, 4.6375281821893122, 4.6372349057149735, 4.6369483249572934, 4.6366683892505103, 4.6363950484657792, 4.6361282530039389, 4.6358679537883951, 4.6356141022580033, 4.6353666503603899, 4.6351255505450002, 4.6348907557565076, 4.6346622194282361, 4.6344398954757091, 4.6342237382902951, 4.6340137027330135, 4.6338097441282597, 4.6336118182578963, 4.6334198813552607, 4.633233890099195, 4.6330538016084324, 4.6328795734358517, 4.632711163562873, 4.6325485303940246, 4.6323916327514221, 4.6322404298695803, 4.6320948813900182, 4.6319549473561556, 4.6318205882083205, 4.6316917647786129, 4.6315684382859708, 4.6314505703314417, 4.6313381228932737, 4.631231058322272, 4.6311293393371455, 4.631032929019951, 4.6309417908115851, 4.6308558885073445, 4.6307751862525652, 4.6306996485383918, 4.6306292401973872, 4.6305639263995824, 4.6305036726481434, 4.6304484447755021, 4.6303982089392379, 4.6303529316182157, 4.6303125796087219, 4.6302771200206418, 4.6302465202736407, 4.6302207480935476, 4.6301997715086776, 4.6301835588461584, 4.6301720787285365, 4.6301653000701224, 4.6301631920736366, 4.630165724226825, 4.630172866299084, 4.6301845883381754, 4.6302008606669087, 4.6302216538800423, 4.6302469388410525, 4.6302766866790765, 4.6303108687857755, 4.6303494568123043, 4.6303924226664606, 4.6304397385095211, 4.6304913767535147, 4.6305473100583585, 4.6306075113288951, 4.630671953712187, 4.630740610594863, 4.6308134556002516, 4.6308904625858558, 4.6309716056405676, 4.6310568590822037, 4.6311461974549379, 4.6312395955266386, 4.6313370282865289, 4.6314384709426735, 4.6315438989194995, 4.6316532878554471]\n"
     ]
    }
   ],
   "source": [
    "GD_Error = []\n",
    "GD_Time = []\n",
    "startGD = timeit.default_timer()\n",
    "\n",
    "EPOCH = 400\n",
    "Eta = 0.02\n",
    "eta = Eta\n",
    "\n",
    "for l in range(EPOCH):\n",
    "    E = np.array(M)*np.array(Y - A*B)\n",
    "    Err = np.sum(E*E)/np.sum(np.array(M))\n",
    "    stopGD = timeit.default_timer()\n",
    "    GD_Error.append(Err)\n",
    "    GD_Time.append(stopGD-startGD)\n",
    "        \n",
    "    temp_A = A + eta*Err*B.T\n",
    "    B = B + eta*Err*A.T\n",
    "    A = temp_A\n",
    "    \n",
    "    eta = Eta*1./(l+1)\n",
    "    \n",
    "E = np.array(M)*np.array(Y - A*B)\n",
    "Err = np.sum(E*E)/np.sum(np.array(M))\n",
    "stopGD = timeit.default_timer()\n",
    "GD_Error.append(Err)\n",
    "GD_Time.append(stopGD-startGD)\n",
    "print(A*B)\n",
    "print(GD_Error)"
   ]
  },
  {
   "cell_type": "code",
   "execution_count": 41,
   "metadata": {
    "collapsed": false
   },
   "outputs": [
    {
     "data": {
      "image/png": "[encoded data removed]",
      "text/plain": [
       "<matplotlib.figure.Figure at 0x12369e898>"
      ]
     },
     "metadata": {},
     "output_type": "display_data"
    }
   ],
   "source": [
    "plt.plot(GD_Time, GD_Error,'ro')\n",
    "plt.axis([-10, 700, 0, 13])\n",
    "plt.show()"
   ]
  },
  {
   "cell_type": "markdown",
   "metadata": {},
   "source": [
    "As it can be seen, after a point the error doesn't get much smaller, but with greater eta values the solution becomes instable. Almost in half the time SGD solves this problem with error around 1, regular GD can can solve the problem with error around 4."
   ]
  },
  {
   "cell_type": "code",
   "execution_count": null,
   "metadata": {
    "collapsed": true
   },
   "outputs": [],
   "source": []
  }
 ],
 "metadata": {
  "kernelspec": {
   "display_name": "Python 3",
   "language": "python",
   "name": "python3"
  },
  "language_info": {
   "codemirror_mode": {
    "name": "ipython",
    "version": 3
   },
   "file_extension": ".py",
   "mimetype": "text/x-python",
   "name": "python",
   "nbconvert_exporter": "python",
   "pygments_lexer": "ipython3",
   "version": "3.5.1"
  }
 },
 "nbformat": 4,
 "nbformat_minor": 0
}
