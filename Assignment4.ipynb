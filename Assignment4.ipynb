{
 "cells": [
  {
   "cell_type": "code",
   "execution_count": null,
   "metadata": {
    "collapsed": true
   },
   "outputs": [],
   "source": [
    "%matplotlib inline\n",
    "import numpy as np\n",
    "import pandas as pd\n",
    "from IPython import display\n",
    "import matplotlib.pylab as plt\n",
    "\n",
    "rnames = ['user_id', 'movie_id', 'rating', 'timestamp']\n",
    "ratings = pd.read_table('data/ml-1m/ratings.dat', sep='::', header=None, names=rnames, engine='python')\n",
    "\n",
    "user = np.matrix(ratings.user_id).T\n",
    "movie = np.matrix(ratings.movie_id).T\n",
    "rating = np.matrix(ratings.rating).T\n",
    "\n"
   ]
  },
  {
   "cell_type": "code",
   "execution_count": 15,
   "metadata": {
    "collapsed": false
   },
   "outputs": [
    {
     "name": "stdout",
     "output_type": "stream",
     "text": [
      "[[5]\n",
      " [3]\n",
      " [3]\n",
      " ..., \n",
      " [5]\n",
      " [4]\n",
      " [4]]\n"
     ]
    }
   ],
   "source": [
    "print(rating)"
   ]
  },
  {
   "cell_type": "code",
   "execution_count": null,
   "metadata": {
    "collapsed": true
   },
   "outputs": [],
   "source": [
    "Ys = np.hstack([rating,user,movie])\n",
    "movieMax = 0\n",
    "userMax = 0\n",
    "for i in range (Ys.shape[0]):\n",
    "    if(Ys[i,2]>movieMax):\n",
    "        movieMax = Ys[i,2]\n",
    "    if(Ys[i,1]>userMax):\n",
    "        userMax = Ys[i,1]"
   ]
  },
  {
   "cell_type": "code",
   "execution_count": 35,
   "metadata": {
    "collapsed": false
   },
   "outputs": [
    {
     "name": "stdout",
     "output_type": "stream",
     "text": [
      "3952\n",
      "6040\n",
      "[[   4 2414 2099]\n",
      " [   4 3163 3262]\n",
      " [   4 1635 2787]\n",
      " ..., \n",
      " [   4 1320  507]\n",
      " [   3 3371 1136]\n",
      " [   4 4345   46]]\n"
     ]
    }
   ],
   "source": [
    "        \n",
    "print(movieMax)\n",
    "print(userMax)\n",
    "np.random.shuffle(Ys)\n",
    "print(Ys)"
   ]
  },
  {
   "cell_type": "code",
   "execution_count": 36,
   "metadata": {
    "collapsed": false
   },
   "outputs": [
    {
     "name": "stdout",
     "output_type": "stream",
     "text": [
      "(6041, 3953)\n"
     ]
    }
   ],
   "source": [
    "Nr = 6041 ## there are 6040 users \n",
    "Nc = 3953 ## there are 3952 movies\n",
    "user_zeros = np.matrix([0]*Nr).T \n",
    "movie_zeros = np.matrix([0]*Nc) \n",
    "Y = user_zeros*movie_zeros\n",
    "M = user_zeros*movie_zeros\n",
    "print(Y.shape)"
   ]
  },
  {
   "cell_type": "code",
   "execution_count": 37,
   "metadata": {
    "collapsed": false
   },
   "outputs": [
    {
     "name": "stdout",
     "output_type": "stream",
     "text": [
      "[[ 0.58629211]\n",
      " [ 0.5168715 ]\n",
      " [ 0.35504641]\n",
      " ..., \n",
      " [ 0.57147945]\n",
      " [ 0.19111464]\n",
      " [ 0.31797327]]\n",
      "[[ 0.21446937  0.1664273   0.82126997 ...,  0.05740207  0.25644474\n",
      "   0.29662029]]\n"
     ]
    }
   ],
   "source": [
    "A = np.mat(np.random.rand(Nr, 1))\n",
    "B = np.mat(np.random.rand(1, Nc))\n",
    "\n",
    "print(A)\n",
    "print(B)"
   ]
  },
  {
   "cell_type": "code",
   "execution_count": 38,
   "metadata": {
    "collapsed": false
   },
   "outputs": [
    {
     "name": "stdout",
     "output_type": "stream",
     "text": [
      "5\n",
      "[[0 0 0 ..., 0 0 0]\n",
      " [0 1 0 ..., 0 0 0]\n",
      " [0 0 0 ..., 0 0 0]\n",
      " ..., \n",
      " [0 0 0 ..., 0 0 0]\n",
      " [0 0 0 ..., 0 0 0]\n",
      " [0 1 0 ..., 0 0 0]]\n"
     ]
    }
   ],
   "source": [
    "for j in range (len(Ys)):\n",
    "    u = user[j]\n",
    "    m = movie[j]\n",
    "    r = rating[j]\n",
    "    Y[u,m] = r\n",
    "    M[u,m] = 1\n",
    "print (Y[1,1193])\n",
    "print(M)"
   ]
  },
  {
   "cell_type": "code",
   "execution_count": 39,
   "metadata": {
    "collapsed": false
   },
   "outputs": [
    {
     "name": "stdout",
     "output_type": "stream",
     "text": [
      "12.4069263999\n"
     ]
    }
   ],
   "source": [
    "import timeit\n",
    "EPOCH = 5\n",
    "Eta = 0.1\n",
    "eta = Eta\n",
    "\n",
    "E = np.array(M)*np.array(Y - A*B)\n",
    "Err = np.sum(E*E)/np.sum(np.array(M))\n",
    "print(Err)"
   ]
  },
  {
   "cell_type": "code",
   "execution_count": 40,
   "metadata": {
    "collapsed": false
   },
   "outputs": [
    {
     "name": "stdout",
     "output_type": "stream",
     "text": [
      "[[ 0.1257417   1.27085487  1.01041914 ...,  1.11839496  1.25945871\n",
      "   1.23052031]\n",
      " [ 0.42100001  4.25499184  3.38301823 ...,  3.74453572  4.21683598\n",
      "   4.11994636]\n",
      " [ 0.42333903  4.27863206  3.40181387 ...,  3.7653399   4.24026421\n",
      "   4.14283628]\n",
      " ..., \n",
      " [ 0.41251924  4.1692779   3.31486962 ...,  3.66910458  4.13189067\n",
      "   4.03695282]\n",
      " [ 0.40842625  4.12791059  3.28197969 ...,  3.63269995  4.09089431\n",
      "   3.99689843]\n",
      " [ 0.38568432  3.89806089  3.09923298 ...,  3.43042449  3.86310574\n",
      "   3.77434373]]\n"
     ]
    }
   ],
   "source": [
    "SGD_Error = []\n",
    "SGD_Time = []\n",
    "start = timeit.default_timer()\n",
    "Ysize = Ys.shape[0]\n",
    "for l in range(EPOCH):\n",
    "    E = np.array(M)*np.array(Y - A*B)\n",
    "    Err = np.sum(E*E)/np.sum(np.array(M))\n",
    "    stop = timeit.default_timer()\n",
    "    SGD_Error.append(Err)\n",
    "    SGD_Time.append(stop-start)\n",
    "    for k in range(Ysize):\n",
    "        u = Ys[k,1]\n",
    "        m = Ys[k,2]\n",
    "        \n",
    "        err = Ys[k,0] - A[u,:]*B[:,m]\n",
    "        \n",
    "        temp_A = A[u,:] + eta*err[0,0]*B[:,m].T\n",
    "        B[:,m]   = B[:,m] + eta*err[0,0]*A[u,:].T\n",
    "        A[u,:]   = temp_A\n",
    "    \n",
    "    eta = Eta*1./(l+1)\n",
    "    \n",
    "E = np.array(M)*np.array(Y - A*B)\n",
    "Err = np.sum(E*E)/np.sum(np.array(M))\n",
    "stop = timeit.default_timer()\n",
    "SGD_Error.append(Err)\n",
    "SGD_Time.append(stop-start)\n",
    "print(A*B)"
   ]
  },
  {
   "cell_type": "code",
   "execution_count": 45,
   "metadata": {
    "collapsed": false
   },
   "outputs": [
    {
     "data": {
      "image/png": "[encoded data removed]",
      "text/plain": [
       "<matplotlib.figure.Figure at 0x136738940>"
      ]
     },
     "metadata": {},
     "output_type": "display_data"
    },
    {
     "name": "stdout",
     "output_type": "stream",
     "text": [
      "[12.406926399915173, 1.26836399680163, 1.2677172247710313, 0.98733406478543839, 0.91840037419500786, 0.88759155059118411]\n",
      "[0.8196440499996243, 131.10201391699957, 264.76306144000046, 397.0705481449986, 529.9103020570001, 661.2492253749988]\n"
     ]
    }
   ],
   "source": [
    "import matplotlib.pyplot as plt\n",
    "plt.plot(SGD_Time, SGD_Error,'ro')\n",
    "plt.axis([-10, 700, 0, 13])\n",
    "plt.show()\n",
    "print(SGD_Error)\n",
    "print(SGD_Time)"
   ]
  },
  {
   "cell_type": "code",
   "execution_count": 46,
   "metadata": {
    "collapsed": false
   },
   "outputs": [],
   "source": [
    "Y_star = (A*B)\n",
    "for q in range (Nr):\n",
    "    u = user[q]\n",
    "    m = movie[q]\n",
    "    r = rating[q]\n",
    "    Y_star[u,m] = 0 ## movies that have already been watched"
   ]
  },
  {
   "cell_type": "code",
   "execution_count": 48,
   "metadata": {
    "collapsed": false
   },
   "outputs": [
    {
     "name": "stdout",
     "output_type": "stream",
     "text": [
      "Movies for user  1  : \n",
      "(1.4877971659771978, 53)\n",
      "(1.4849135560243847, 2503)\n",
      "(1.4700184348832963, 1178)\n",
      "(1.4688245405543574, 787)\n",
      "(1.4602065942759861, 649)\n",
      "(1.4584142100428334, 1247)\n",
      "(1.4567454577833847, 950)\n",
      "(1.4487421003070358, 557)\n",
      "(1.4467686068732764, 750)\n",
      "(1.4434139013462088, 3233)\n",
      "Movies for user  2  : \n",
      "(4.9813436254497629, 53)\n",
      "(4.971688914185882, 2503)\n",
      "(4.9218180591774123, 1178)\n",
      "(4.9178207415047339, 787)\n",
      "(4.8889667063311713, 649)\n",
      "(4.8829655645234382, 1247)\n",
      "(4.8773783590762498, 950)\n",
      "(4.8505820492978122, 557)\n",
      "(4.8439745296970695, 750)\n",
      "(4.8327425275299305, 3233)\n",
      "Movies for user  3  : \n",
      "(5.0090193673333028, 53)\n",
      "(4.9993110156629399, 2503)\n",
      "(4.9491630842239909, 1178)\n",
      "(4.9451435579384464, 787)\n",
      "(4.9161292132400227, 649)\n",
      "(4.9044764825312379, 950)\n",
      "(4.8775312957010213, 557)\n",
      "(4.8708870655216252, 750)\n",
      "(4.8595926597107733, 3233)\n",
      "(4.8526707895740895, 2905)\n",
      "Movies for user  4  : \n",
      "(5.0398666188634698, 53)\n",
      "(5.0300984798487267, 2503)\n",
      "(4.9796417203256018, 1178)\n",
      "(4.9755974404247745, 787)\n",
      "(4.9464044154851177, 649)\n",
      "(4.9403327696509827, 1247)\n",
      "(4.9346799232819523, 950)\n",
      "(4.9075687987911421, 557)\n",
      "(4.9008836511737135, 750)\n",
      "(4.889519690555546, 3233)\n",
      "Movies for user  5  : \n",
      "(4.9744061044112406, 53)\n",
      "(4.9647648392710462, 2503)\n",
      "(4.9149634394401032, 1178)\n",
      "(4.910971688834775, 787)\n",
      "(4.882157838697843, 649)\n",
      "(4.8761650546848498, 1247)\n",
      "(4.8705856305429167, 950)\n",
      "(4.8438266400053953, 557)\n",
      "(4.8372283227022033, 750)\n",
      "(4.8260119633529861, 3233)\n",
      "Movies for user  6  : \n",
      "(4.1090975282526596, 53)\n",
      "(4.1011333817947202, 2503)\n",
      "(4.0599950419299109, 1178)\n",
      "(4.0566976648759523, 787)\n",
      "(4.032896045568652, 649)\n",
      "(4.0279457191461052, 1247)\n",
      "(4.0233368477613674, 950)\n",
      "(4.0012326408332761, 557)\n",
      "(3.9957821149308708, 750)\n",
      "(3.9865168652688072, 3233)\n",
      "Movies for user  7  : \n",
      "(5.5166225786656993, 53)\n",
      "(5.5059304035913463, 2503)\n",
      "(5.4507005890185258, 1178)\n",
      "(5.4462737326148583, 787)\n",
      "(5.4143191368485954, 649)\n",
      "(5.4076731318982096, 1247)\n",
      "(5.4014855435607716, 950)\n",
      "(5.3718097896550567, 557)\n",
      "(5.3644922475300358, 750)\n",
      "(5.3520532910118996, 3233)\n",
      "Movies for user  8  : \n",
      "(5.4255841760144543, 53)\n",
      "(5.4150684492154282, 2503)\n",
      "(5.3607500680469657, 1178)\n",
      "(5.3563962661127693, 787)\n",
      "(5.3249690030241448, 649)\n",
      "(5.3184326741783083, 1247)\n",
      "(5.3123471968971314, 950)\n",
      "(5.283161168941402, 557)\n",
      "(5.2759643850043654, 750)\n",
      "(5.2637307031295304, 3233)\n",
      "Movies for user  9  : \n",
      "(5.2023738508373416, 53)\n",
      "(5.192290744512376, 2503)\n",
      "(5.1402070394876018, 1178)\n",
      "(5.136032354403123, 787)\n",
      "(5.1058980192990004, 649)\n",
      "(5.0996305971809575, 1247)\n",
      "(5.0937954784452799, 950)\n",
      "(5.0658101733203615, 557)\n",
      "(5.0589094674517323, 750)\n",
      "(5.0471790832902501, 3233)\n",
      "Movies for user  10  : \n",
      "(4.3857783147745826, 53)\n",
      "(4.3772779127785819, 2503)\n",
      "(4.3333695758154454, 1178)\n",
      "(4.3298501741270083, 787)\n",
      "(4.3044459034576601, 649)\n",
      "(4.2991622531851172, 1247)\n",
      "(4.2942430493853072, 950)\n",
      "(4.270650484170206, 557)\n",
      "(4.2648329541304522, 750)\n",
      "(4.2549438408228575, 3233)\n",
      "Movies for user  11  : \n",
      "(5.3535723354882103, 53)\n",
      "(5.3431961801743366, 2503)\n",
      "(5.2895987474743622, 1178)\n",
      "(5.2853027319978807, 787)\n",
      "(5.25429259174512, 649)\n",
      "(5.2418383103418016, 950)\n",
      "(5.213039658108678, 557)\n",
      "(5.193867085928165, 3233)\n",
      "(5.1864690844919439, 2905)\n",
      "(5.1692656886816382, 1420)\n",
      "Movies for user  12  : \n",
      "(4.3374595330569488, 53)\n",
      "(4.3290527812728552, 2503)\n",
      "(4.2856281890859114, 1178)\n",
      "(4.2821475611771209, 787)\n",
      "(4.257023173192457, 649)\n",
      "(4.2517977336925217, 1247)\n",
      "(4.2469327255035179, 950)\n",
      "(4.2236000831406377, 557)\n",
      "(4.2178466457074766, 750)\n",
      "(4.2080664822539315, 3233)\n",
      "Movies for user  13  : \n",
      "(4.6460809813940438, 53)\n",
      "(4.6370760675080005, 2503)\n",
      "(4.5905617034322246, 1178)\n",
      "(4.5868334198581433, 787)\n",
      "(4.5599213667784353, 649)\n",
      "(4.549112957675356, 950)\n",
      "(4.5241201375460482, 557)\n",
      "(4.5179573281798442, 750)\n",
      "(4.5074812808368927, 3233)\n",
      "(4.501060948464561, 2905)\n",
      "Movies for user  14  : \n",
      "(4.5034271695073036, 53)\n",
      "(4.4946987435466106, 2503)\n",
      "(4.4496125619259992, 1178)\n",
      "(4.4459987520052549, 787)\n",
      "(4.4199130097395196, 649)\n",
      "(4.4144876251250285, 1247)\n",
      "(4.4094364632891052, 950)\n",
      "(4.3852110256216017, 557)\n",
      "(4.379237439872365, 750)\n",
      "(4.3690830503078644, 3233)\n",
      "Movies for user  15  : \n",
      "(4.2244576570405119, 53)\n",
      "(4.2162699225672586, 2503)\n",
      "(4.1739766516860177, 1178)\n",
      "(4.1705867030055668, 787)\n",
      "(4.1461168693641515, 649)\n",
      "(4.1410275658816253, 1247)\n",
      "(4.1362893035557251, 950)\n",
      "(4.1135645359959021, 557)\n",
      "(4.1079609902720549, 750)\n",
      "(4.0984356250038472, 3233)\n",
      "Movies for user  16  : \n",
      "(4.5689318253668345, 53)\n",
      "(4.5600764399778599, 2503)\n",
      "(4.5143344567421853, 1178)\n",
      "(4.5106680821043286, 787)\n",
      "(4.4842029093502918, 649)\n",
      "(4.4786986097364681, 1247)\n",
      "(4.473573976163288, 950)\n",
      "(4.4489961670911349, 557)\n",
      "(4.4429356924761469, 750)\n",
      "(4.4326336021120447, 3233)\n",
      "Movies for user  17  : \n",
      "(4.6612219633797238, 53)\n",
      "(4.6521877036343469, 2503)\n",
      "(4.6055217552122443, 1178)\n",
      "(4.6017813216402059, 787)\n",
      "(4.5747815656314037, 649)\n",
      "(4.5691660819180049, 1247)\n",
      "(4.563937933309405, 950)\n",
      "(4.5388636647850165, 557)\n",
      "(4.5326807716135651, 750)\n",
      "(4.52217058417604, 3233)\n",
      "Movies for user  18  : \n",
      "(5.3440897095969699, 53)\n",
      "(5.3337319332631248, 2503)\n",
      "(5.2802294361260182, 1178)\n",
      "(5.275941030055936, 787)\n",
      "(5.2449858171564303, 649)\n",
      "(5.2385476666107254, 1247)\n",
      "(5.2325535956570217, 950)\n",
      "(5.2038059536331911, 557)\n",
      "(5.1846673412682867, 3233)\n",
      "(5.1772824436953488, 2905)\n",
      "Movies for user  19  : \n",
      "(4.5152362633730405, 53)\n",
      "(4.5064849493323162, 2503)\n",
      "(4.4612805406524529, 1178)\n",
      "(4.4576572544331121, 787)\n",
      "(4.4315031089341543, 649)\n",
      "(4.4260634976265791, 1247)\n",
      "(4.4209990904017538, 950)\n",
      "(4.3967101276773137, 557)\n",
      "(4.3907208777167614, 750)\n",
      "(4.3805398608448787, 3233)\n",
      "Movies for user  20  : \n",
      "(4.9440723777126054, 53)\n",
      "(4.9344899046162558, 2503)\n",
      "(4.8849921917018966, 1178)\n",
      "(4.8810247826298827, 787)\n",
      "(4.8523866381826037, 649)\n",
      "(4.8464303979234975, 1247)\n",
      "(4.8408849968837204, 950)\n",
      "(4.8142891815853455, 557)\n",
      "(4.8077311005534877, 750)\n",
      "(4.7965831381087272, 3233)\n"
     ]
    }
   ],
   "source": [
    "\n",
    "\n",
    "for t in range (20):\n",
    "    \n",
    "    userData = [(0,0)]\n",
    "    for n in range (Nc):\n",
    "        thisMovie = (Y_star[t,n],n)\n",
    "        userData.append(thisMovie)\n",
    "        \n",
    "    userData = sorted(userData, key=lambda tup: tup[0], reverse=True)     \n",
    "    \n",
    "    print(\"Movies for user \" , t+1 , \" : \")\n",
    "    for h in range(10):\n",
    "        print (userData[h])\n",
    "    "
   ]
  },
  {
   "cell_type": "code",
   "execution_count": null,
   "metadata": {
    "collapsed": true
   },
   "outputs": [],
   "source": []
  }
 ],
 "metadata": {
  "kernelspec": {
   "display_name": "Python 3",
   "language": "python",
   "name": "python3"
  },
  "language_info": {
   "codemirror_mode": {
    "name": "ipython",
    "version": 3
   },
   "file_extension": ".py",
   "mimetype": "text/x-python",
   "name": "python",
   "nbconvert_exporter": "python",
   "pygments_lexer": "ipython3",
   "version": "3.5.1"
  }
 },
 "nbformat": 4,
 "nbformat_minor": 0
}
